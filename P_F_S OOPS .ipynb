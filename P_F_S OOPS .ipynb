{
 "cells": [
  {
   "cell_type": "code",
   "execution_count": 1,
   "id": "9723d9d9",
   "metadata": {},
   "outputs": [],
   "source": [
    "class phone:       # CREATING THE \"phone\" CLASS\n",
    "    def make_call(self):         # <= Method\n",
    "        print(\"you can call\")\n",
    "    def play_games(self):\n",
    "        print(\"you can play games\")\n",
    "        \n"
   ]
  },
  {
   "cell_type": "code",
   "execution_count": 2,
   "id": "de02a661",
   "metadata": {},
   "outputs": [],
   "source": [
    "p1=phone()  # instantiating the \"p1\" object"
   ]
  },
  {
   "cell_type": "code",
   "execution_count": 3,
   "id": "1159a554",
   "metadata": {},
   "outputs": [
    {
     "name": "stdout",
     "output_type": "stream",
     "text": [
      "you can call\n"
     ]
    }
   ],
   "source": [
    "p1.make_call() # invoking methods through object"
   ]
  },
  {
   "cell_type": "code",
   "execution_count": 4,
   "id": "be9f4ec9",
   "metadata": {},
   "outputs": [
    {
     "name": "stdout",
     "output_type": "stream",
     "text": [
      "you can play games\n"
     ]
    }
   ],
   "source": [
    "p1.play_games()"
   ]
  },
  {
   "cell_type": "code",
   "execution_count": null,
   "id": "cf09b2a2",
   "metadata": {},
   "outputs": [],
   "source": []
  },
  {
   "cell_type": "code",
   "execution_count": null,
   "id": "bef4c430",
   "metadata": {},
   "outputs": [],
   "source": []
  },
  {
   "cell_type": "code",
   "execution_count": 5,
   "id": "5cca93bb",
   "metadata": {},
   "outputs": [],
   "source": [
    "class mobile:\n",
    "    def set_color(self,color):\n",
    "        self.color=color\n",
    "    def set_cost(self,cost):\n",
    "        self.cost=cost\n",
    "    def show_color(self):\n",
    "        return self.color\n",
    "    def show_cost(self):\n",
    "        return self.cost\n",
    "    def make_call(self):\n",
    "        print('make a call')\n",
    "    def play_games(self):\n",
    "        print('lets play fifa 21')"
   ]
  },
  {
   "cell_type": "code",
   "execution_count": 6,
   "id": "0c6a6fd2",
   "metadata": {},
   "outputs": [],
   "source": [
    "x = mobile()"
   ]
  },
  {
   "cell_type": "code",
   "execution_count": 7,
   "id": "713d1412",
   "metadata": {},
   "outputs": [],
   "source": [
    "x.set_color(\"black\")"
   ]
  },
  {
   "cell_type": "code",
   "execution_count": 8,
   "id": "453cb653",
   "metadata": {},
   "outputs": [],
   "source": [
    "x.set_cost(53000)"
   ]
  },
  {
   "cell_type": "code",
   "execution_count": 9,
   "id": "359474bf",
   "metadata": {},
   "outputs": [
    {
     "data": {
      "text/plain": [
       "'black'"
      ]
     },
     "execution_count": 9,
     "metadata": {},
     "output_type": "execute_result"
    }
   ],
   "source": [
    "x.show_color()"
   ]
  },
  {
   "cell_type": "code",
   "execution_count": 10,
   "id": "5f04a1b1",
   "metadata": {},
   "outputs": [
    {
     "data": {
      "text/plain": [
       "53000"
      ]
     },
     "execution_count": 10,
     "metadata": {},
     "output_type": "execute_result"
    }
   ],
   "source": [
    "x.show_cost()"
   ]
  },
  {
   "cell_type": "code",
   "execution_count": 11,
   "id": "c468d9b4",
   "metadata": {},
   "outputs": [
    {
     "name": "stdout",
     "output_type": "stream",
     "text": [
      "make a call\n"
     ]
    }
   ],
   "source": [
    "x.make_call()"
   ]
  },
  {
   "cell_type": "code",
   "execution_count": 12,
   "id": "8da735d6",
   "metadata": {},
   "outputs": [
    {
     "name": "stdout",
     "output_type": "stream",
     "text": [
      "lets play fifa 21\n"
     ]
    }
   ],
   "source": [
    "x.play_games()"
   ]
  },
  {
   "cell_type": "code",
   "execution_count": null,
   "id": "0e65f25a",
   "metadata": {},
   "outputs": [],
   "source": []
  },
  {
   "cell_type": "code",
   "execution_count": 13,
   "id": "24e70d95",
   "metadata": {},
   "outputs": [],
   "source": [
    "class employee:\n",
    "    def __init__(self,name,age,gender,salary):\n",
    "        self.name=name\n",
    "        self.age=age\n",
    "        self.gender=gender\n",
    "        self.salary=salary\n",
    "    \n",
    "    def show_details(self):\n",
    "        print(\"name of the employee is\", self.name)\n",
    "        print(\"age of the employee is\",self.age)\n",
    "        print(\"gender is\",  self.gender)\n",
    "        print(\"and his salary is\",self.salary)"
   ]
  },
  {
   "cell_type": "code",
   "execution_count": 14,
   "id": "6b45d691",
   "metadata": {},
   "outputs": [],
   "source": [
    "a = employee(\"pratik\",25,\"male\",80000)"
   ]
  },
  {
   "cell_type": "code",
   "execution_count": 15,
   "id": "d31711e0",
   "metadata": {},
   "outputs": [
    {
     "name": "stdout",
     "output_type": "stream",
     "text": [
      "name of the employee is pratik\n",
      "age of the employee is 25\n",
      "gender is male\n",
      "and his salary is 80000\n"
     ]
    }
   ],
   "source": [
    "a.show_details()"
   ]
  },
  {
   "cell_type": "code",
   "execution_count": null,
   "id": "6e4fb726",
   "metadata": {},
   "outputs": [],
   "source": []
  },
  {
   "cell_type": "code",
   "execution_count": 16,
   "id": "c67404ab",
   "metadata": {},
   "outputs": [],
   "source": [
    "#INHERITENCE"
   ]
  },
  {
   "cell_type": "code",
   "execution_count": 17,
   "id": "d5d4aeb8",
   "metadata": {},
   "outputs": [],
   "source": [
    "class vehicle:\n",
    "    def __init__(self,color,price,mileage):\n",
    "        self.color=color\n",
    "        self.price=price\n",
    "        self.mileage=mileage\n",
    "    \n",
    "    def vehicle_details(self):\n",
    "        print('color of the vehicle is',self.color)\n",
    "        print('price of the vehicle is',self.price)\n",
    "        print('mileage of the vehicle is',self.mileage)\n",
    "        "
   ]
  },
  {
   "cell_type": "code",
   "execution_count": 18,
   "id": "46e7eadd",
   "metadata": {},
   "outputs": [],
   "source": [
    "x = vehicle('red',100,80)"
   ]
  },
  {
   "cell_type": "code",
   "execution_count": 19,
   "id": "111f3e92",
   "metadata": {},
   "outputs": [
    {
     "name": "stdout",
     "output_type": "stream",
     "text": [
      "color of the vehicle is red\n",
      "price of the vehicle is 100\n",
      "mileage of the vehicle is 80\n"
     ]
    }
   ],
   "source": [
    "x.vehicle_details()"
   ]
  },
  {
   "cell_type": "code",
   "execution_count": 20,
   "id": "1e331b02",
   "metadata": {},
   "outputs": [],
   "source": [
    "class car(vehicle):           #_______________CHILD CLASS\n",
    "    def car_details(self):\n",
    "        print('this is child class')"
   ]
  },
  {
   "cell_type": "code",
   "execution_count": 21,
   "id": "9f89a6d1",
   "metadata": {},
   "outputs": [],
   "source": [
    "a = car('Green',1500000,25)"
   ]
  },
  {
   "cell_type": "code",
   "execution_count": 22,
   "id": "667177e9",
   "metadata": {},
   "outputs": [
    {
     "name": "stdout",
     "output_type": "stream",
     "text": [
      "color of the vehicle is Green\n",
      "price of the vehicle is 1500000\n",
      "mileage of the vehicle is 25\n"
     ]
    }
   ],
   "source": [
    "a.vehicle_details()"
   ]
  },
  {
   "cell_type": "code",
   "execution_count": null,
   "id": "2777debc",
   "metadata": {},
   "outputs": [],
   "source": []
  },
  {
   "cell_type": "code",
   "execution_count": 23,
   "id": "d1866063",
   "metadata": {},
   "outputs": [],
   "source": [
    "class Dog:\n",
    "    \n",
    "    # CLASS OBJECT ATTRIBUTE\n",
    "    \n",
    "    # SAME FOR ANY INSTANCE OF A CLASS \n",
    "    \n",
    "    spacies ='mammals'\n",
    "    \n",
    "    \n",
    "    \n",
    "    def __init__(self,name,breed,color,vaccination):\n",
    "        self.name=name\n",
    "        self.breed=breed\n",
    "        self.color=color\n",
    "        self.vaccination=vaccination\n",
    "        \n",
    "        # ATTRIBUTES \n",
    "        \n",
    "        # WE TAKE IN THE ARGUMENT\n",
    "        \n",
    "        # ASSIGN IT WITH SELF.ATTRIBUTE NAME\n",
    "        \n",
    "        \n",
    "    def DogInfo(self):\n",
    "        print(\"name of the dog is\",self.name)\n",
    "        print(\"breed of the dog is\",self.breed)\n",
    "        print(\"color of the dog is\",self.color)\n",
    "        print(\"vaccination of the dog is\",self.vaccination)\n",
    "        "
   ]
  },
  {
   "cell_type": "code",
   "execution_count": 24,
   "id": "0028b456",
   "metadata": {},
   "outputs": [
    {
     "ename": "NameError",
     "evalue": "name 'dog_intro' is not defined",
     "output_type": "error",
     "traceback": [
      "\u001b[1;31m---------------------------------------------------------------------------\u001b[0m",
      "\u001b[1;31mNameError\u001b[0m                                 Traceback (most recent call last)",
      "\u001b[1;32m~\\AppData\\Local\\Temp/ipykernel_20416/3197163523.py\u001b[0m in \u001b[0;36m<module>\u001b[1;34m\u001b[0m\n\u001b[1;32m----> 1\u001b[1;33m \u001b[0mdog_intro\u001b[0m\u001b[1;33m.\u001b[0m\u001b[0mspacies\u001b[0m\u001b[1;33m\u001b[0m\u001b[1;33m\u001b[0m\u001b[0m\n\u001b[0m",
      "\u001b[1;31mNameError\u001b[0m: name 'dog_intro' is not defined"
     ]
    }
   ],
   "source": [
    "dog_intro.spacies"
   ]
  },
  {
   "cell_type": "code",
   "execution_count": null,
   "id": "740d18c0",
   "metadata": {},
   "outputs": [],
   "source": [
    "dog_intro = Dog('sam','lab','white','done')"
   ]
  },
  {
   "cell_type": "code",
   "execution_count": null,
   "id": "ee7fdb47",
   "metadata": {},
   "outputs": [],
   "source": [
    "dog_intro.DogInfo()"
   ]
  },
  {
   "cell_type": "code",
   "execution_count": null,
   "id": "ec8f12fa",
   "metadata": {},
   "outputs": [],
   "source": [
    "class bhubhu(Dog):\n",
    "    \n",
    "    def bhubhu_details(self):\n",
    "        print(\" i am mojo rojo\")\n",
    "        "
   ]
  },
  {
   "cell_type": "code",
   "execution_count": null,
   "id": "e5e4eb41",
   "metadata": {},
   "outputs": [],
   "source": [
    "doggie=bhubhu('dolly','pomerian','off white','done')"
   ]
  },
  {
   "cell_type": "code",
   "execution_count": null,
   "id": "274b5f3f",
   "metadata": {},
   "outputs": [],
   "source": [
    "doggie.bhubhu_details()"
   ]
  },
  {
   "cell_type": "code",
   "execution_count": null,
   "id": "dfa30838",
   "metadata": {},
   "outputs": [],
   "source": [
    "doggie.DogInfo()"
   ]
  },
  {
   "cell_type": "code",
   "execution_count": null,
   "id": "8319c8f3",
   "metadata": {},
   "outputs": [],
   "source": []
  },
  {
   "cell_type": "code",
   "execution_count": null,
   "id": "771aaf20",
   "metadata": {},
   "outputs": [],
   "source": []
  },
  {
   "cell_type": "code",
   "execution_count": null,
   "id": "039b1f43",
   "metadata": {},
   "outputs": [],
   "source": [
    "class Circle:\n",
    "    \n",
    "    pi = 3.14\n",
    "    \n",
    "    def __init__(self,radius=1):\n",
    "        \n",
    "        self.radius = radius\n",
    "        self.area  =  Circle.pi * radius * radius     #_____________self.pi or #Circle.pi\n",
    "    \n",
    "    def get_circumference(self):\n",
    "        \n",
    "        return  2 * self.radius * Circle.pi    #________________2*pi*r"
   ]
  },
  {
   "cell_type": "code",
   "execution_count": null,
   "id": "dea83777",
   "metadata": {},
   "outputs": [],
   "source": [
    "Answer = Circle()"
   ]
  },
  {
   "cell_type": "code",
   "execution_count": null,
   "id": "0874f81f",
   "metadata": {},
   "outputs": [],
   "source": [
    "Answer.pi"
   ]
  },
  {
   "cell_type": "code",
   "execution_count": null,
   "id": "a9ca970f",
   "metadata": {},
   "outputs": [],
   "source": [
    "Answer.radius"
   ]
  },
  {
   "cell_type": "code",
   "execution_count": null,
   "id": "4c314b33",
   "metadata": {},
   "outputs": [],
   "source": [
    "Answer.get_circumference()"
   ]
  },
  {
   "cell_type": "code",
   "execution_count": null,
   "id": "229bc544",
   "metadata": {},
   "outputs": [],
   "source": [
    "Answer = Circle(radius=30)   "
   ]
  },
  {
   "cell_type": "code",
   "execution_count": null,
   "id": "a491fd4d",
   "metadata": {},
   "outputs": [],
   "source": [
    "Answer.get_circumference()"
   ]
  },
  {
   "cell_type": "code",
   "execution_count": null,
   "id": "290873f7",
   "metadata": {},
   "outputs": [],
   "source": [
    "#area"
   ]
  },
  {
   "cell_type": "code",
   "execution_count": null,
   "id": "475b028f",
   "metadata": {},
   "outputs": [],
   "source": [
    "Answer=Circle(10)"
   ]
  },
  {
   "cell_type": "code",
   "execution_count": null,
   "id": "e5df24ad",
   "metadata": {},
   "outputs": [],
   "source": [
    "Answer.area"
   ]
  },
  {
   "cell_type": "code",
   "execution_count": null,
   "id": "4243056b",
   "metadata": {},
   "outputs": [],
   "source": []
  },
  {
   "cell_type": "code",
   "execution_count": null,
   "id": "a4bd5ba8",
   "metadata": {},
   "outputs": [],
   "source": [
    "class Dog:\n",
    "    def __init__(self,name):\n",
    "        self.name = name\n",
    "    def speak(self):\n",
    "        print(self.name,\"says woof\")"
   ]
  },
  {
   "cell_type": "code",
   "execution_count": null,
   "id": "23e5c663",
   "metadata": {},
   "outputs": [],
   "source": [
    "class Cat:\n",
    "    def __init__(self,name):\n",
    "        self.name = name\n",
    "    def speak(self):\n",
    "        print(self.name,\"says meow\")"
   ]
  },
  {
   "cell_type": "code",
   "execution_count": null,
   "id": "51d01a66",
   "metadata": {},
   "outputs": [],
   "source": [
    "ricky_doggo=Dog('ricky')"
   ]
  },
  {
   "cell_type": "code",
   "execution_count": null,
   "id": "cfacfb51",
   "metadata": {},
   "outputs": [],
   "source": [
    "ricky_doggo.name"
   ]
  },
  {
   "cell_type": "code",
   "execution_count": null,
   "id": "4defb741",
   "metadata": {},
   "outputs": [],
   "source": [
    "ricky_doggo.speak()"
   ]
  },
  {
   "cell_type": "code",
   "execution_count": null,
   "id": "64bb0358",
   "metadata": {},
   "outputs": [],
   "source": [
    "kitty=Cat(\"kitty\")"
   ]
  },
  {
   "cell_type": "code",
   "execution_count": null,
   "id": "f5ac06a0",
   "metadata": {},
   "outputs": [],
   "source": [
    "kitty.name"
   ]
  },
  {
   "cell_type": "code",
   "execution_count": null,
   "id": "9c914fd3",
   "metadata": {},
   "outputs": [],
   "source": [
    "kitty.speak()"
   ]
  },
  {
   "cell_type": "code",
   "execution_count": null,
   "id": "219a78b9",
   "metadata": {},
   "outputs": [],
   "source": []
  },
  {
   "cell_type": "code",
   "execution_count": null,
   "id": "a1dbd864",
   "metadata": {},
   "outputs": [],
   "source": []
  },
  {
   "cell_type": "code",
   "execution_count": null,
   "id": "61b23cde",
   "metadata": {},
   "outputs": [],
   "source": [
    "class Vehicle_info:\n",
    "    def __init__(self,mileage,cost):\n",
    "        self.mileage = mileage\n",
    "        self.cost = cost\n",
    "    def show_info(self):\n",
    "        print('mileage of the vehicle is',self.mileage)\n",
    "        print('cost of the vehicle is',self.cost)\n",
    "    "
   ]
  },
  {
   "cell_type": "code",
   "execution_count": null,
   "id": "979e03be",
   "metadata": {},
   "outputs": [],
   "source": [
    "car1 = Vehicle_info(25,1500000)"
   ]
  },
  {
   "cell_type": "code",
   "execution_count": null,
   "id": "59e2e598",
   "metadata": {},
   "outputs": [],
   "source": [
    "class Carrr(Vehicle_info):\n",
    "    def __init__(self,mileage,cost,tyre,hp):\n",
    "        super().__init__(mileage,cost)\n",
    "        self.tyre = tyre\n",
    "        self.hp = hp\n",
    "    \n",
    "    def Caar_details(self):\n",
    "        print('tyre of thr caar is',self.tyre)\n",
    "        print('cost of the caar',self.hp)\n",
    "        \n",
    "    \n",
    "        "
   ]
  },
  {
   "cell_type": "code",
   "execution_count": null,
   "id": "3febd517",
   "metadata": {},
   "outputs": [],
   "source": [
    "car2=Carrr(30,800000,'mrf',200)"
   ]
  },
  {
   "cell_type": "code",
   "execution_count": null,
   "id": "d2f868d2",
   "metadata": {},
   "outputs": [],
   "source": [
    "Carrr."
   ]
  },
  {
   "cell_type": "code",
   "execution_count": null,
   "id": "64bfd7d3",
   "metadata": {},
   "outputs": [],
   "source": [
    "car2.show_info()"
   ]
  },
  {
   "cell_type": "code",
   "execution_count": null,
   "id": "a70b2f19",
   "metadata": {},
   "outputs": [],
   "source": [
    "car2.Caar_details()"
   ]
  },
  {
   "cell_type": "code",
   "execution_count": null,
   "id": "8c1ee71f",
   "metadata": {},
   "outputs": [],
   "source": [
    "class Parent1:\n",
    "    def assign_str_one(self,str1):\n",
    "        self.str1 = str1\n",
    "        \n",
    "    def show_Parent1_details(self):\n",
    "        return self.str1\n",
    "        \n",
    "        "
   ]
  },
  {
   "cell_type": "code",
   "execution_count": null,
   "id": "3ad917aa",
   "metadata": {},
   "outputs": [],
   "source": [
    "class Parent2:\n",
    "    def assign_str_two(self,str2):\n",
    "        self.str2 = str2\n",
    "        \n",
    "    def show_Parent2_details(self):\n",
    "        return self.str2\n",
    "        \n",
    "        "
   ]
  },
  {
   "cell_type": "code",
   "execution_count": null,
   "id": "e13a9c9b",
   "metadata": {},
   "outputs": [],
   "source": [
    "class Child(Parent1,Parent2):\n",
    "    def assign_str_three(self,str3):\n",
    "        self.str3=str3\n",
    "    \n",
    "    def show_child_details(self):\n",
    "          return self.str3\n",
    "        "
   ]
  },
  {
   "cell_type": "code",
   "execution_count": null,
   "id": "335195fe",
   "metadata": {},
   "outputs": [],
   "source": []
  },
  {
   "cell_type": "code",
   "execution_count": null,
   "id": "7612ff65",
   "metadata": {},
   "outputs": [],
   "source": [
    "Male = Parent1()\n",
    "Female = Parent2()\n",
    "Baby = Child()"
   ]
  },
  {
   "cell_type": "code",
   "execution_count": null,
   "id": "67027501",
   "metadata": {},
   "outputs": [],
   "source": [
    "Baby.assign_str_one('Nitin')"
   ]
  },
  {
   "cell_type": "code",
   "execution_count": null,
   "id": "ae5039d8",
   "metadata": {},
   "outputs": [],
   "source": []
  },
  {
   "cell_type": "code",
   "execution_count": null,
   "id": "71d77bcc",
   "metadata": {},
   "outputs": [],
   "source": [
    "Male.assign_str_one(\"NITIN\")"
   ]
  },
  {
   "cell_type": "code",
   "execution_count": null,
   "id": "94932902",
   "metadata": {},
   "outputs": [],
   "source": [
    "Female.assign_str_two(\"SMITA\")"
   ]
  },
  {
   "cell_type": "code",
   "execution_count": null,
   "id": "0441be90",
   "metadata": {},
   "outputs": [],
   "source": [
    "Male.show_Parent1_details()"
   ]
  },
  {
   "cell_type": "code",
   "execution_count": null,
   "id": "8e3a7ec3",
   "metadata": {},
   "outputs": [],
   "source": [
    "Female.show_Parent2_details()"
   ]
  },
  {
   "cell_type": "code",
   "execution_count": null,
   "id": "8db3122c",
   "metadata": {},
   "outputs": [],
   "source": [
    "Baby.assign_str_three('Parteek')"
   ]
  },
  {
   "cell_type": "code",
   "execution_count": null,
   "id": "fb53b00d",
   "metadata": {},
   "outputs": [],
   "source": [
    "Baby.show_child_details()"
   ]
  },
  {
   "cell_type": "code",
   "execution_count": null,
   "id": "c4ec5a62",
   "metadata": {},
   "outputs": [],
   "source": [
    "class sample:\n",
    "    \n",
    "    def __init__(self,name,age):\n",
    "        self.name=name\n",
    "        self.age=age\n",
    "        \n",
    "    def show_sample (self):\n",
    "        print(f'my name is {self.name}')\n",
    "        print(f'i am {self.age} years old')"
   ]
  },
  {
   "cell_type": "code",
   "execution_count": null,
   "id": "0bfc369e",
   "metadata": {},
   "outputs": [],
   "source": [
    "s= sample('Guddu',25)"
   ]
  },
  {
   "cell_type": "code",
   "execution_count": null,
   "id": "489f2853",
   "metadata": {},
   "outputs": [],
   "source": []
  },
  {
   "cell_type": "code",
   "execution_count": null,
   "id": "9703f8ee",
   "metadata": {},
   "outputs": [],
   "source": [
    "class gample(sample):\n",
    "    def __init__(self,name,age,business,kids):\n",
    "        super().__init__(name,age)\n",
    "        self.business = business\n",
    "        self.kids = kids\n",
    "        \n",
    "    def show_gample(self):\n",
    "        print(f'my business is {self.business}')\n",
    "        print(f'i have {self.kids} kids')\n",
    "    "
   ]
  },
  {
   "cell_type": "code",
   "execution_count": null,
   "id": "9cf491c7",
   "metadata": {},
   "outputs": [],
   "source": [
    "g = gample('Pratik',25,'investments',2)"
   ]
  },
  {
   "cell_type": "code",
   "execution_count": null,
   "id": "6ac73a9d",
   "metadata": {},
   "outputs": [],
   "source": [
    "g.show_gample()"
   ]
  },
  {
   "cell_type": "code",
   "execution_count": null,
   "id": "8141190a",
   "metadata": {},
   "outputs": [],
   "source": [
    "g.show_sample()"
   ]
  },
  {
   "cell_type": "code",
   "execution_count": null,
   "id": "d61450b1",
   "metadata": {},
   "outputs": [],
   "source": [
    "g.age"
   ]
  },
  {
   "cell_type": "code",
   "execution_count": null,
   "id": "7586afa3",
   "metadata": {},
   "outputs": [],
   "source": []
  },
  {
   "cell_type": "markdown",
   "id": "6141e8fa",
   "metadata": {},
   "source": [
    "### LETS CREATE A BANK ACCOUNT"
   ]
  },
  {
   "cell_type": "code",
   "execution_count": null,
   "id": "8cadb869",
   "metadata": {},
   "outputs": [],
   "source": []
  },
  {
   "cell_type": "code",
   "execution_count": null,
   "id": "5aa93c1f",
   "metadata": {},
   "outputs": [],
   "source": [
    "class Account:\n",
    "    \n",
    "    def __init__(self,owner,balance=0):\n",
    "        \n",
    "        self.owner = owner\n",
    "        self.balance =balance\n",
    "        \n",
    "    def deposite(self,dep_amt):\n",
    "        \n",
    "        self.balance = self.balance + dep_amt\n",
    "        print(f'Added {dep_amt} into the account')\n",
    "        \n",
    "        \n",
    "    def withdrawal(self,wid_amt):\n",
    "        \n",
    "        if self.balance >= wid_amt:\n",
    "            self.balance = self.balance - wid_amt\n",
    "            print('withdrawal accepted')\n",
    "        \n",
    "        else:\n",
    "            print('Sorry, insufficient funds')\n",
    "    \n",
    "    def statement(self):\n",
    "        return f'Hey {self.owner} , your current Balance is {self.balance}'\n",
    "            "
   ]
  },
  {
   "cell_type": "code",
   "execution_count": null,
   "id": "b30c69ff",
   "metadata": {},
   "outputs": [],
   "source": [
    "A = Account('Pratik',500)"
   ]
  },
  {
   "cell_type": "code",
   "execution_count": null,
   "id": "c5427c41",
   "metadata": {},
   "outputs": [],
   "source": [
    "A.owner"
   ]
  },
  {
   "cell_type": "code",
   "execution_count": null,
   "id": "42f92f3c",
   "metadata": {},
   "outputs": [],
   "source": [
    "A.balance"
   ]
  },
  {
   "cell_type": "code",
   "execution_count": null,
   "id": "48f6c28c",
   "metadata": {},
   "outputs": [],
   "source": [
    "A.deposite(500)"
   ]
  },
  {
   "cell_type": "code",
   "execution_count": null,
   "id": "bd1ed9a1",
   "metadata": {},
   "outputs": [],
   "source": [
    "A.withdrawal(999)"
   ]
  },
  {
   "cell_type": "code",
   "execution_count": null,
   "id": "da2e31a9",
   "metadata": {},
   "outputs": [],
   "source": [
    "A.statement()"
   ]
  },
  {
   "cell_type": "code",
   "execution_count": null,
   "id": "c10ddcab",
   "metadata": {},
   "outputs": [],
   "source": [
    "A.deposite(999)"
   ]
  },
  {
   "cell_type": "code",
   "execution_count": null,
   "id": "136c6dc4",
   "metadata": {},
   "outputs": [],
   "source": [
    "A.deposite(1000)"
   ]
  },
  {
   "cell_type": "code",
   "execution_count": null,
   "id": "df3b5bcc",
   "metadata": {},
   "outputs": [],
   "source": [
    "A.withdrawal(2000)"
   ]
  },
  {
   "cell_type": "code",
   "execution_count": null,
   "id": "24e2c0ee",
   "metadata": {},
   "outputs": [],
   "source": [
    "A.statement()"
   ]
  },
  {
   "cell_type": "code",
   "execution_count": null,
   "id": "e4d95019",
   "metadata": {},
   "outputs": [],
   "source": []
  },
  {
   "cell_type": "code",
   "execution_count": null,
   "id": "1b49084a",
   "metadata": {},
   "outputs": [],
   "source": []
  },
  {
   "cell_type": "code",
   "execution_count": null,
   "id": "bf820b50",
   "metadata": {},
   "outputs": [],
   "source": [
    "class account:\n",
    "    def __init__(self,owner,balance=0):\n",
    "        \n",
    "        self.owner = owner\n",
    "        self.balance = balance\n",
    "        print(f'hi {self.owner}...Your current balance is {self.balance}')\n",
    "    \n",
    "    def deposite(self,dep_amt):\n",
    "        self.balance = self.balance + dep_amt\n",
    "        print(f'{dep_amt} is added into your account')\n",
    "        \n",
    "    def withdrawal(self,with_amt):\n",
    "        if self.balance >= with_amt:\n",
    "            self.balance = self.balance - with_amt\n",
    "            print('Withdrawal Accepted')\n",
    "        else:\n",
    "            print('Sorry, Insufficient Balance')\n",
    "    \n",
    "    def Statement(self):\n",
    "        print(f'Hey {self.owner},Your current balance is {self.balance}')\n",
    "        "
   ]
  },
  {
   "cell_type": "code",
   "execution_count": null,
   "id": "29cf1b09",
   "metadata": {},
   "outputs": [],
   "source": [
    "a=account('raj',500)"
   ]
  },
  {
   "cell_type": "code",
   "execution_count": null,
   "id": "ce52a15b",
   "metadata": {},
   "outputs": [],
   "source": [
    "a.deposite(500)"
   ]
  },
  {
   "cell_type": "code",
   "execution_count": null,
   "id": "77f18d5f",
   "metadata": {},
   "outputs": [],
   "source": [
    "a.withdrawal(100)"
   ]
  },
  {
   "cell_type": "code",
   "execution_count": null,
   "id": "b2872766",
   "metadata": {},
   "outputs": [],
   "source": [
    "a.Statement()"
   ]
  },
  {
   "cell_type": "code",
   "execution_count": null,
   "id": "934e70ab",
   "metadata": {},
   "outputs": [],
   "source": []
  }
 ],
 "metadata": {
  "kernelspec": {
   "display_name": "Python 3 (ipykernel)",
   "language": "python",
   "name": "python3"
  },
  "language_info": {
   "codemirror_mode": {
    "name": "ipython",
    "version": 3
   },
   "file_extension": ".py",
   "mimetype": "text/x-python",
   "name": "python",
   "nbconvert_exporter": "python",
   "pygments_lexer": "ipython3",
   "version": "3.9.7"
  }
 },
 "nbformat": 4,
 "nbformat_minor": 5
}
